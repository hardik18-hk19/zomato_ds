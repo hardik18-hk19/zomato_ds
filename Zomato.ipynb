{
 "cells": [
  {
   "cell_type": "markdown",
   "id": "72ca2401",
   "metadata": {},
   "source": [
    "Zomato Data Analysis Project"
   ]
  },
  {
   "cell_type": "code",
   "execution_count": 1,
   "id": "9734a693",
   "metadata": {},
   "outputs": [],
   "source": [
    "#importing libraries\n",
    "import pandas as pd\n",
    "import numpy as np\n",
    "import matplotlib.pyplot as plt\n",
    "import seaborn as sns"
   ]
  },
  {
   "cell_type": "markdown",
   "id": "45cd6029",
   "metadata": {},
   "source": [
    "Create Data Frame"
   ]
  },
  {
   "cell_type": "code",
   "execution_count": 9,
   "id": "e894f61b",
   "metadata": {},
   "outputs": [
    {
     "name": "stdout",
     "output_type": "stream",
     "text": [
      "                      name online_order book_table   rate  votes  \\\n",
      "0                    Jalsa          Yes        Yes  4.1/5    775   \n",
      "1           Spice Elephant          Yes         No  4.1/5    787   \n",
      "2          San Churro Cafe          Yes         No  3.8/5    918   \n",
      "3    Addhuri Udupi Bhojana           No         No  3.7/5     88   \n",
      "4            Grand Village           No         No  3.8/5    166   \n",
      "..                     ...          ...        ...    ...    ...   \n",
      "143       Melting Melodies           No         No  3.3/5      0   \n",
      "144        New Indraprasta           No         No  3.3/5      0   \n",
      "145           Anna Kuteera          Yes         No  4.0/5    771   \n",
      "146                 Darbar           No         No  3.0/5     98   \n",
      "147          Vijayalakshmi          Yes         No  3.9/5     47   \n",
      "\n",
      "     approx_cost(for two people) listed_in(type)  \n",
      "0                            800          Buffet  \n",
      "1                            800          Buffet  \n",
      "2                            800          Buffet  \n",
      "3                            300          Buffet  \n",
      "4                            600          Buffet  \n",
      "..                           ...             ...  \n",
      "143                          100          Dining  \n",
      "144                          150          Dining  \n",
      "145                          450          Dining  \n",
      "146                          800          Dining  \n",
      "147                          200          Dining  \n",
      "\n",
      "[148 rows x 7 columns]\n"
     ]
    }
   ],
   "source": [
    "df=pd.read_csv(\"Zomato_data.csv\")\n",
    "print(df)"
   ]
  },
  {
   "cell_type": "code",
   "execution_count": 10,
   "id": "50894bca",
   "metadata": {},
   "outputs": [
    {
     "data": {
      "application/vnd.microsoft.datawrangler.viewer.v0+json": {
       "columns": [
        {
         "name": "index",
         "rawType": "int64",
         "type": "integer"
        },
        {
         "name": "name",
         "rawType": "object",
         "type": "string"
        },
        {
         "name": "online_order",
         "rawType": "object",
         "type": "string"
        },
        {
         "name": "book_table",
         "rawType": "object",
         "type": "string"
        },
        {
         "name": "rate",
         "rawType": "object",
         "type": "string"
        },
        {
         "name": "votes",
         "rawType": "int64",
         "type": "integer"
        },
        {
         "name": "approx_cost(for two people)",
         "rawType": "int64",
         "type": "integer"
        },
        {
         "name": "listed_in(type)",
         "rawType": "object",
         "type": "string"
        }
       ],
       "ref": "fa6d1181-d170-4d0b-b1cb-838a6c728dc2",
       "rows": [
        [
         "0",
         "Jalsa",
         "Yes",
         "Yes",
         "4.1/5",
         "775",
         "800",
         "Buffet"
        ],
        [
         "1",
         "Spice Elephant",
         "Yes",
         "No",
         "4.1/5",
         "787",
         "800",
         "Buffet"
        ],
        [
         "2",
         "San Churro Cafe",
         "Yes",
         "No",
         "3.8/5",
         "918",
         "800",
         "Buffet"
        ],
        [
         "3",
         "Addhuri Udupi Bhojana",
         "No",
         "No",
         "3.7/5",
         "88",
         "300",
         "Buffet"
        ],
        [
         "4",
         "Grand Village",
         "No",
         "No",
         "3.8/5",
         "166",
         "600",
         "Buffet"
        ],
        [
         "5",
         "Timepass Dinner",
         "Yes",
         "No",
         "3.8/5",
         "286",
         "600",
         "Buffet"
        ],
        [
         "6",
         "Rosewood International Hotel - Bar & Restaurant",
         "No",
         "No",
         "3.6/5",
         "8",
         "800",
         "Buffet"
        ],
        [
         "7",
         "Onesta",
         "Yes",
         "Yes",
         "4.6/5",
         "2556",
         "600",
         "Cafes"
        ],
        [
         "8",
         "Penthouse Cafe",
         "Yes",
         "No",
         "4.0/5",
         "324",
         "700",
         "other"
        ],
        [
         "9",
         "Smacznego",
         "Yes",
         "No",
         "4.2/5",
         "504",
         "550",
         "Cafes"
        ],
        [
         "10",
         "Village Café",
         "Yes",
         "No",
         "4.1/5",
         "402",
         "500",
         "Cafes"
        ],
        [
         "11",
         "Cafe Shuffle",
         "Yes",
         "Yes",
         "4.2/5",
         "150",
         "600",
         "Cafes"
        ],
        [
         "12",
         "The Coffee Shack",
         "Yes",
         "Yes",
         "4.2/5",
         "164",
         "500",
         "Cafes"
        ],
        [
         "13",
         "Caf-Eleven",
         "No",
         "No",
         "4.0/5",
         "424",
         "450",
         "Cafes"
        ],
        [
         "14",
         "San Churro Cafe",
         "Yes",
         "No",
         "3.8/5",
         "918",
         "800",
         "Cafes"
        ],
        [
         "15",
         "Cafe Vivacity",
         "Yes",
         "No",
         "3.8/5",
         "90",
         "650",
         "Cafes"
        ],
        [
         "16",
         "Catch-up-ino",
         "Yes",
         "No",
         "3.9/5",
         "133",
         "800",
         "Cafes"
        ],
        [
         "17",
         "Kirthi's Biryani",
         "Yes",
         "No",
         "3.8/5",
         "144",
         "700",
         "Cafes"
        ],
        [
         "18",
         "T3H Cafe",
         "No",
         "No",
         "3.9/5",
         "93",
         "300",
         "Cafes"
        ],
        [
         "19",
         "360 Atoms Restaurant And Cafe",
         "Yes",
         "No",
         "3.1/5",
         "13",
         "400",
         "Cafes"
        ],
        [
         "20",
         "The Vintage Cafe",
         "Yes",
         "No",
         "3.0/5",
         "62",
         "400",
         "Cafes"
        ],
        [
         "21",
         "Woodee Pizza",
         "Yes",
         "No",
         "3.7/5",
         "180",
         "500",
         "Cafes"
        ],
        [
         "22",
         "Cafe Coffee Day",
         "No",
         "No",
         "3.6/5",
         "28",
         "900",
         "Cafes"
        ],
        [
         "23",
         "My Tea House",
         "Yes",
         "No",
         "3.6/5",
         "62",
         "600",
         "Cafes"
        ],
        [
         "24",
         "Hide Out Cafe",
         "No",
         "No",
         "3.7/5",
         "31",
         "300",
         "Cafes"
        ],
        [
         "25",
         "CAFE NOVA",
         "No",
         "No",
         "3.2/5",
         "11",
         "600",
         "Cafes"
        ],
        [
         "26",
         "Coffee Tindi",
         "Yes",
         "No",
         "3.8/5",
         "75",
         "200",
         "Cafes"
        ],
        [
         "27",
         "Sea Green Cafe",
         "No",
         "No",
         "3.3/5",
         "4",
         "500",
         "Cafes"
        ],
        [
         "28",
         "Cuppa",
         "No",
         "No",
         "3.3/5",
         "23",
         "550",
         "Cafes"
        ],
        [
         "29",
         "Srinathji's Cafe",
         "No",
         "No",
         "3.8/5",
         "148",
         "550",
         "Cafes"
        ],
        [
         "30",
         "Redberrys",
         "Yes",
         "No",
         "4.0/5",
         "219",
         "600",
         "Cafes"
        ],
        [
         "31",
         "Foodiction",
         "Yes",
         "No",
         "2.8/5",
         "506",
         "500",
         "other"
        ],
        [
         "32",
         "Sweet Truth",
         "Yes",
         "No",
         "3.9/5",
         "35",
         "500",
         "Dining"
        ],
        [
         "33",
         "Ovenstory Pizza",
         "Yes",
         "No",
         "3.9/5",
         "172",
         "750",
         "Dining"
        ],
        [
         "34",
         "Faasos",
         "Yes",
         "No",
         "4.2/5",
         "415",
         "500",
         "other"
        ],
        [
         "35",
         "Behrouz Biryani",
         "Yes",
         "No",
         "3.9/5",
         "230",
         "650",
         "Dining"
        ],
        [
         "36",
         "Fast And Fresh",
         "Yes",
         "No",
         "2.8/5",
         "91",
         "400",
         "Dining"
        ],
        [
         "37",
         "Szechuan Dragon",
         "Yes",
         "No",
         "4.2/5",
         "1647",
         "600",
         "Dining"
        ],
        [
         "38",
         "Empire Restaurant",
         "Yes",
         "No",
         "4.4/5",
         "4884",
         "750",
         "other"
        ],
        [
         "39",
         "Maruthi Davangere Benne Dosa",
         "Yes",
         "No",
         "4.0/5",
         "17",
         "150",
         "Dining"
        ],
        [
         "40",
         "Chaatimes",
         "Yes",
         "No",
         "3.8/5",
         "133",
         "200",
         "Dining"
        ],
        [
         "41",
         "Havyaka Mess",
         "No",
         "No",
         "3.9/5",
         "28",
         "300",
         "Dining"
        ],
        [
         "42",
         "McDonald's",
         "Yes",
         "No",
         "3.9/5",
         "286",
         "500",
         "Dining"
        ],
        [
         "43",
         "Domino's Pizza",
         "Yes",
         "No",
         "3.9/5",
         "540",
         "800",
         "Dining"
        ],
        [
         "44",
         "Onesta",
         "Yes",
         "Yes",
         "4.6/5",
         "2556",
         "600",
         "other"
        ],
        [
         "45",
         "Hotboxit",
         "No",
         "No",
         "3.8/5",
         "36",
         "400",
         "Dining"
        ],
        [
         "46",
         "Kitchen Garden",
         "Yes",
         "No",
         "3.6/5",
         "244",
         "300",
         "Dining"
        ],
        [
         "47",
         "Recipe",
         "Yes",
         "No",
         "4.0/5",
         "804",
         "450",
         "Dining"
        ],
        [
         "48",
         "Beijing Bites",
         "Yes",
         "No",
         "3.7/5",
         "679",
         "850",
         "Dining"
        ],
        [
         "49",
         "Tasty Bytes",
         "Yes",
         "No",
         "3.1/5",
         "245",
         "300",
         "Dining"
        ]
       ],
       "shape": {
        "columns": 7,
        "rows": 148
       }
      },
      "text/html": [
       "<div>\n",
       "<style scoped>\n",
       "    .dataframe tbody tr th:only-of-type {\n",
       "        vertical-align: middle;\n",
       "    }\n",
       "\n",
       "    .dataframe tbody tr th {\n",
       "        vertical-align: top;\n",
       "    }\n",
       "\n",
       "    .dataframe thead th {\n",
       "        text-align: right;\n",
       "    }\n",
       "</style>\n",
       "<table border=\"1\" class=\"dataframe\">\n",
       "  <thead>\n",
       "    <tr style=\"text-align: right;\">\n",
       "      <th></th>\n",
       "      <th>name</th>\n",
       "      <th>online_order</th>\n",
       "      <th>book_table</th>\n",
       "      <th>rate</th>\n",
       "      <th>votes</th>\n",
       "      <th>approx_cost(for two people)</th>\n",
       "      <th>listed_in(type)</th>\n",
       "    </tr>\n",
       "  </thead>\n",
       "  <tbody>\n",
       "    <tr>\n",
       "      <th>0</th>\n",
       "      <td>Jalsa</td>\n",
       "      <td>Yes</td>\n",
       "      <td>Yes</td>\n",
       "      <td>4.1/5</td>\n",
       "      <td>775</td>\n",
       "      <td>800</td>\n",
       "      <td>Buffet</td>\n",
       "    </tr>\n",
       "    <tr>\n",
       "      <th>1</th>\n",
       "      <td>Spice Elephant</td>\n",
       "      <td>Yes</td>\n",
       "      <td>No</td>\n",
       "      <td>4.1/5</td>\n",
       "      <td>787</td>\n",
       "      <td>800</td>\n",
       "      <td>Buffet</td>\n",
       "    </tr>\n",
       "    <tr>\n",
       "      <th>2</th>\n",
       "      <td>San Churro Cafe</td>\n",
       "      <td>Yes</td>\n",
       "      <td>No</td>\n",
       "      <td>3.8/5</td>\n",
       "      <td>918</td>\n",
       "      <td>800</td>\n",
       "      <td>Buffet</td>\n",
       "    </tr>\n",
       "    <tr>\n",
       "      <th>3</th>\n",
       "      <td>Addhuri Udupi Bhojana</td>\n",
       "      <td>No</td>\n",
       "      <td>No</td>\n",
       "      <td>3.7/5</td>\n",
       "      <td>88</td>\n",
       "      <td>300</td>\n",
       "      <td>Buffet</td>\n",
       "    </tr>\n",
       "    <tr>\n",
       "      <th>4</th>\n",
       "      <td>Grand Village</td>\n",
       "      <td>No</td>\n",
       "      <td>No</td>\n",
       "      <td>3.8/5</td>\n",
       "      <td>166</td>\n",
       "      <td>600</td>\n",
       "      <td>Buffet</td>\n",
       "    </tr>\n",
       "    <tr>\n",
       "      <th>...</th>\n",
       "      <td>...</td>\n",
       "      <td>...</td>\n",
       "      <td>...</td>\n",
       "      <td>...</td>\n",
       "      <td>...</td>\n",
       "      <td>...</td>\n",
       "      <td>...</td>\n",
       "    </tr>\n",
       "    <tr>\n",
       "      <th>143</th>\n",
       "      <td>Melting Melodies</td>\n",
       "      <td>No</td>\n",
       "      <td>No</td>\n",
       "      <td>3.3/5</td>\n",
       "      <td>0</td>\n",
       "      <td>100</td>\n",
       "      <td>Dining</td>\n",
       "    </tr>\n",
       "    <tr>\n",
       "      <th>144</th>\n",
       "      <td>New Indraprasta</td>\n",
       "      <td>No</td>\n",
       "      <td>No</td>\n",
       "      <td>3.3/5</td>\n",
       "      <td>0</td>\n",
       "      <td>150</td>\n",
       "      <td>Dining</td>\n",
       "    </tr>\n",
       "    <tr>\n",
       "      <th>145</th>\n",
       "      <td>Anna Kuteera</td>\n",
       "      <td>Yes</td>\n",
       "      <td>No</td>\n",
       "      <td>4.0/5</td>\n",
       "      <td>771</td>\n",
       "      <td>450</td>\n",
       "      <td>Dining</td>\n",
       "    </tr>\n",
       "    <tr>\n",
       "      <th>146</th>\n",
       "      <td>Darbar</td>\n",
       "      <td>No</td>\n",
       "      <td>No</td>\n",
       "      <td>3.0/5</td>\n",
       "      <td>98</td>\n",
       "      <td>800</td>\n",
       "      <td>Dining</td>\n",
       "    </tr>\n",
       "    <tr>\n",
       "      <th>147</th>\n",
       "      <td>Vijayalakshmi</td>\n",
       "      <td>Yes</td>\n",
       "      <td>No</td>\n",
       "      <td>3.9/5</td>\n",
       "      <td>47</td>\n",
       "      <td>200</td>\n",
       "      <td>Dining</td>\n",
       "    </tr>\n",
       "  </tbody>\n",
       "</table>\n",
       "<p>148 rows × 7 columns</p>\n",
       "</div>"
      ],
      "text/plain": [
       "                      name online_order book_table   rate  votes  \\\n",
       "0                    Jalsa          Yes        Yes  4.1/5    775   \n",
       "1           Spice Elephant          Yes         No  4.1/5    787   \n",
       "2          San Churro Cafe          Yes         No  3.8/5    918   \n",
       "3    Addhuri Udupi Bhojana           No         No  3.7/5     88   \n",
       "4            Grand Village           No         No  3.8/5    166   \n",
       "..                     ...          ...        ...    ...    ...   \n",
       "143       Melting Melodies           No         No  3.3/5      0   \n",
       "144        New Indraprasta           No         No  3.3/5      0   \n",
       "145           Anna Kuteera          Yes         No  4.0/5    771   \n",
       "146                 Darbar           No         No  3.0/5     98   \n",
       "147          Vijayalakshmi          Yes         No  3.9/5     47   \n",
       "\n",
       "     approx_cost(for two people) listed_in(type)  \n",
       "0                            800          Buffet  \n",
       "1                            800          Buffet  \n",
       "2                            800          Buffet  \n",
       "3                            300          Buffet  \n",
       "4                            600          Buffet  \n",
       "..                           ...             ...  \n",
       "143                          100          Dining  \n",
       "144                          150          Dining  \n",
       "145                          450          Dining  \n",
       "146                          800          Dining  \n",
       "147                          200          Dining  \n",
       "\n",
       "[148 rows x 7 columns]"
      ]
     },
     "execution_count": 10,
     "metadata": {},
     "output_type": "execute_result"
    }
   ],
   "source": [
    "df"
   ]
  },
  {
   "cell_type": "markdown",
   "id": "6c504891",
   "metadata": {},
   "source": [
    "Data Cleaning"
   ]
  },
  {
   "cell_type": "code",
   "execution_count": null,
   "id": "88edc38a",
   "metadata": {},
   "outputs": [],
   "source": [
    "def handleRating(value):\n",
    "    value=str(value).split(\"/\")\n",
    "    value=value[0]\n",
    "    return float(value)\n",
    "\n",
    "df['rate'] = df['rate'].apply(handleRating)"
   ]
  },
  {
   "cell_type": "code",
   "execution_count": 12,
   "id": "666adca5",
   "metadata": {},
   "outputs": [
    {
     "data": {
      "text/plain": [
       "1.04"
      ]
     },
     "execution_count": 12,
     "metadata": {},
     "output_type": "execute_result"
    }
   ],
   "source": [
    "handleRating(5.2/5)"
   ]
  },
  {
   "cell_type": "code",
   "execution_count": null,
   "id": "ac6f98c7",
   "metadata": {},
   "outputs": [],
   "source": []
  }
 ],
 "metadata": {
  "kernelspec": {
   "display_name": "Python 3",
   "language": "python",
   "name": "python3"
  },
  "language_info": {
   "codemirror_mode": {
    "name": "ipython",
    "version": 3
   },
   "file_extension": ".py",
   "mimetype": "text/x-python",
   "name": "python",
   "nbconvert_exporter": "python",
   "pygments_lexer": "ipython3",
   "version": "3.10.11"
  }
 },
 "nbformat": 4,
 "nbformat_minor": 5
}
